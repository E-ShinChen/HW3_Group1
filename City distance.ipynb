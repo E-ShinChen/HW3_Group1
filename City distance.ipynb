{
 "cells": [
  {
   "cell_type": "code",
   "execution_count": 1,
   "metadata": {},
   "outputs": [],
   "source": [
    "from sklearn import datasets\n",
    "from sklearn.manifold import MDS"
   ]
  },
  {
   "cell_type": "code",
   "execution_count": 2,
   "metadata": {},
   "outputs": [],
   "source": [
    "from math import sqrt\n",
    "from math import cos\n",
    "from math import sin\n",
    "import math\n",
    "\n",
    "def rad(d):\n",
    "    return d * math.pi / 180.0\n",
    "\n",
    "def getDistance(location1, location2):\n",
    "    print(location1)\n",
    "    lat1, lng1 = location1[0], location1[1]\n",
    "    lat2, lng2 = location2[0], location2[1]\n",
    "    EARTH_REDIUS = 6378.137\n",
    "    radLat1 = rad(lat1)\n",
    "    radLat2 = rad(lat2)\n",
    "    a = radLat1 - radLat2\n",
    "    b = rad(lng1) - rad(lng2)\n",
    "    dis = 2 * math.asin(math.sqrt(math.pow(sin(a/2), 2) + cos(radLat1) * cos(radLat2) * math.pow(sin(b/2), 2)))\n",
    "    dis = dis * EARTH_REDIUS\n",
    "    return dis"
   ]
  },
  {
   "cell_type": "code",
   "execution_count": 3,
   "metadata": {},
   "outputs": [],
   "source": [
    "citylist = []\n",
    "taipei = [25.047919631252775, 121.51624105197017]\n",
    "taoyuan = [25.013079603615427, 121.21478270089906]\n",
    "hsinchu = [24.80833160925325, 121.04023159113365]\n",
    "taichung = [24.111865844301832, 120.61572958016143]\n",
    "yunlin= [23.73641758174236, 120.41654313039452]\n",
    "tainan = [22.924679495261397, 120.28570491599645]\n",
    "kaohsiung = [22.688067241088056, 120.30908218780064]\n",
    "\n",
    "citylist.append(taipei)\n",
    "citylist.append(taoyuan)\n",
    "citylist.append(hsinchu)\n",
    "citylist.append(taichung)\n",
    "citylist.append(yunlin)\n",
    "citylist.append(tainan)\n",
    "citylist.append(kaohsiung)"
   ]
  },
  {
   "cell_type": "code",
   "execution_count": 4,
   "metadata": {
    "scrolled": true
   },
   "outputs": [
    {
     "name": "stdout",
     "output_type": "stream",
     "text": [
      "--------- City change ---------\n",
      "[25.047919631252775, 121.51624105197017]\n",
      "[25.047919631252775, 121.51624105197017]\n",
      "[25.047919631252775, 121.51624105197017]\n",
      "[25.047919631252775, 121.51624105197017]\n",
      "[25.047919631252775, 121.51624105197017]\n",
      "[25.047919631252775, 121.51624105197017]\n",
      "[25.047919631252775, 121.51624105197017]\n",
      "--------- City change ---------\n",
      "[25.013079603615427, 121.21478270089906]\n",
      "[25.013079603615427, 121.21478270089906]\n",
      "[25.013079603615427, 121.21478270089906]\n",
      "[25.013079603615427, 121.21478270089906]\n",
      "[25.013079603615427, 121.21478270089906]\n",
      "[25.013079603615427, 121.21478270089906]\n",
      "[25.013079603615427, 121.21478270089906]\n",
      "--------- City change ---------\n",
      "[24.80833160925325, 121.04023159113365]\n",
      "[24.80833160925325, 121.04023159113365]\n",
      "[24.80833160925325, 121.04023159113365]\n",
      "[24.80833160925325, 121.04023159113365]\n",
      "[24.80833160925325, 121.04023159113365]\n",
      "[24.80833160925325, 121.04023159113365]\n",
      "[24.80833160925325, 121.04023159113365]\n",
      "--------- City change ---------\n",
      "[24.111865844301832, 120.61572958016143]\n",
      "[24.111865844301832, 120.61572958016143]\n",
      "[24.111865844301832, 120.61572958016143]\n",
      "[24.111865844301832, 120.61572958016143]\n",
      "[24.111865844301832, 120.61572958016143]\n",
      "[24.111865844301832, 120.61572958016143]\n",
      "[24.111865844301832, 120.61572958016143]\n",
      "--------- City change ---------\n",
      "[23.73641758174236, 120.41654313039452]\n",
      "[23.73641758174236, 120.41654313039452]\n",
      "[23.73641758174236, 120.41654313039452]\n",
      "[23.73641758174236, 120.41654313039452]\n",
      "[23.73641758174236, 120.41654313039452]\n",
      "[23.73641758174236, 120.41654313039452]\n",
      "[23.73641758174236, 120.41654313039452]\n",
      "--------- City change ---------\n",
      "[22.924679495261397, 120.28570491599645]\n",
      "[22.924679495261397, 120.28570491599645]\n",
      "[22.924679495261397, 120.28570491599645]\n",
      "[22.924679495261397, 120.28570491599645]\n",
      "[22.924679495261397, 120.28570491599645]\n",
      "[22.924679495261397, 120.28570491599645]\n",
      "[22.924679495261397, 120.28570491599645]\n",
      "--------- City change ---------\n",
      "[22.688067241088056, 120.30908218780064]\n",
      "[22.688067241088056, 120.30908218780064]\n",
      "[22.688067241088056, 120.30908218780064]\n",
      "[22.688067241088056, 120.30908218780064]\n",
      "[22.688067241088056, 120.30908218780064]\n",
      "[22.688067241088056, 120.30908218780064]\n",
      "[22.688067241088056, 120.30908218780064]\n"
     ]
    }
   ],
   "source": [
    "dist = []\n",
    "for i in citylist:\n",
    "    temp = []\n",
    "    print('--------- City change ---------')\n",
    "    for k in citylist:\n",
    "        temp.append(getDistance(i,k))\n",
    "    dist.append(temp)"
   ]
  },
  {
   "cell_type": "code",
   "execution_count": 5,
   "metadata": {},
   "outputs": [
    {
     "data": {
      "text/plain": [
       "[[0.0,\n",
       "  30.652835249770934,\n",
       "  54.95788277459786,\n",
       "  138.44770917332178,\n",
       "  183.69544070719627,\n",
       "  267.44247330893717,\n",
       "  290.0138305927959],\n",
       " [30.652835249770934,\n",
       "  0.0,\n",
       "  28.81096413471705,\n",
       "  117.23114411010013,\n",
       "  163.5482804615429,\n",
       "  250.9512252436578,\n",
       "  274.7518673252555],\n",
       " [54.95788277459786,\n",
       "  28.81096413471705,\n",
       "  0.0,\n",
       "  88.66292816986828,\n",
       "  135.07046611605386,\n",
       "  223.31107586311956,\n",
       "  247.5030514416479],\n",
       " [138.44770917332178,\n",
       "  117.23114411010013,\n",
       "  88.66292816986828,\n",
       "  0.0,\n",
       "  46.44995326518407,\n",
       "  136.38247520794667,\n",
       "  161.56279422285647],\n",
       " [183.69544070719627,\n",
       "  163.5482804615429,\n",
       "  135.07046611605386,\n",
       "  46.44995326518407,\n",
       "  0.0,\n",
       "  91.34658119888488,\n",
       "  117.21852346083813],\n",
       " [267.44247330893717,\n",
       "  250.9512252436578,\n",
       "  223.31107586311956,\n",
       "  136.38247520794667,\n",
       "  91.34658119888488,\n",
       "  0.0,\n",
       "  26.448570377926494],\n",
       " [290.0138305927959,\n",
       "  274.7518673252555,\n",
       "  247.5030514416479,\n",
       "  161.56279422285647,\n",
       "  117.21852346083813,\n",
       "  26.448570377926494,\n",
       "  0.0]]"
      ]
     },
     "execution_count": 5,
     "metadata": {},
     "output_type": "execute_result"
    }
   ],
   "source": [
    "dist"
   ]
  },
  {
   "cell_type": "code",
   "execution_count": 6,
   "metadata": {},
   "outputs": [
    {
     "name": "stderr",
     "output_type": "stream",
     "text": [
      "D:\\conda\\lib\\site-packages\\sklearn\\manifold\\_mds.py:419: UserWarning: The MDS API has changed. ``fit`` now constructs an dissimilarity matrix from data. To use a custom dissimilarity matrix, set ``dissimilarity='precomputed'``.\n",
      "  warnings.warn(\"The MDS API has changed. ``fit`` now constructs an\"\n"
     ]
    }
   ],
   "source": [
    "mds_coeff = MDS(n_components=2)\n",
    "mds_result = mds_coeff.fit_transform(dist)"
   ]
  },
  {
   "cell_type": "code",
   "execution_count": 8,
   "metadata": {},
   "outputs": [
    {
     "data": {
      "image/png": "[encoded data removed]",
      "text/plain": [
       "<Figure size 432x288 with 1 Axes>"
      ]
     },
     "metadata": {
      "needs_background": "light"
     },
     "output_type": "display_data"
    }
   ],
   "source": [
    "import matplotlib.pyplot as plt\n",
    "\n",
    "x = mds_result[:, 0]\n",
    "y = mds_result[:, 1]\n",
    "\n",
    "plt.scatter(x, y)\n",
    "for i, n in enumerate(['Taipei', 'Taoyuan', 'Hsinchu', 'Taichung', 'Yunlin', 'Tainan', 'Kaohsiung']):\n",
    "    plt.annotate(n, (x[i], y[i]))\n",
    "\n",
    "plt.show()"
   ]
  },
  {
   "cell_type": "code",
   "execution_count": null,
   "metadata": {},
   "outputs": [],
   "source": []
  }
 ],
 "metadata": {
  "kernelspec": {
   "display_name": "Python 3",
   "language": "python",
   "name": "python3"
  },
  "language_info": {
   "codemirror_mode": {
    "name": "ipython",
    "version": 3
   },
   "file_extension": ".py",
   "mimetype": "text/x-python",
   "name": "python",
   "nbconvert_exporter": "python",
   "pygments_lexer": "ipython3",
   "version": "3.6.8"
  }
 },
 "nbformat": 4,
 "nbformat_minor": 2
}
